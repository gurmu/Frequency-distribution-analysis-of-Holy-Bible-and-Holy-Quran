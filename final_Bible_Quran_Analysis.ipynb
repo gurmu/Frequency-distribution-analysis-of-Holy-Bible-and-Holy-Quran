{
 "cells": [
  {
   "cell_type": "markdown",
   "metadata": {},
   "source": [
    " <h1><center>Frequency distribution analysis of Holy Bible and Holy Quran</center></h1>  "
   ]
  },
  {
   "cell_type": "markdown",
   "metadata": {},
   "source": [
    "# Lesson Goals\n",
    "In this lesson we will explore the potential of Apache Spark within Python API in exploring text data. Counting the frequency of specific words in the list can provide illustrative data. We will walkthrough on different libraries of Spark for data preparation and creating Resilient Distribution Dataset(RDD). We will end this lesson by visualizing our processed data.\n",
    "\n",
    "# Prerequests \n",
    "  1. install Apache Spark\n",
    "  2. Install Anaconda\n",
    "  3. Install SpaCy Library\n",
    "  4. Install WordCloud Library\n",
    "  \n",
    "  NB:make sure Jupyter Notebook and Spark running"
   ]
  },
  {
   "cell_type": "code",
   "execution_count": 1,
   "metadata": {},
   "outputs": [],
   "source": [
    "import numpy as np\n",
    "import matplotlib.pyplot as plt\n",
    "%matplotlib inline\n",
    "import pandas as pd\n",
    "import re\n",
    "from spacy.lang.en.stop_words import STOP_WORDS\n",
    "from nltk.corpus import stopwords\n",
    "from nltk.tokenize import word_tokenize\n",
    "from pyspark import SparkContext, SparkConf"
   ]
  },
  {
   "cell_type": "code",
   "execution_count": 2,
   "metadata": {},
   "outputs": [],
   "source": [
    "#SparkContext is main entry point for Spark functionality\n",
    "#Configure spark parameter to use local machine\n",
    "conf = SparkConf().setAppName(\"ProjectWC\").setMaster(\"local[*]\")\n",
    "sc = SparkContext.getOrCreate(conf)"
   ]
  },
  {
   "cell_type": "code",
   "execution_count": 3,
   "metadata": {},
   "outputs": [],
   "source": [
    "#A Spark context can be used to create Resilient Distributed Datasets (RDDs) on a cluster.\n",
    "# import your downloaded Bible & Quran text file\n",
    "bRDD = sc.textFile(\"bible.txt\")\n",
    "qRDD = sc.textFile(\"quran.txt\")"
   ]
  },
  {
   "cell_type": "code",
   "execution_count": 4,
   "metadata": {},
   "outputs": [
    {
     "data": {
      "text/plain": [
       "['17:25 And Ishmael his son was thirteen years old, when he was',\n",
       " 'they shall go out in the jubile.',\n",
       " '',\n",
       " 'put to death.',\n",
       " '',\n",
       " '',\n",
       " 'behind, which were so faint that they could not go over the brook Besor.',\n",
       " '',\n",
       " '6:9 So he built the house, and finished it; and covered the house with',\n",
       " 'kings of Israel?',\n",
       " 'that the king of Babylon had made Gedaliah governor, there came to',\n",
       " '',\n",
       " 'bars: her king and her princes are among the Gentiles: the law is no',\n",
       " 'thine head upon thee, and put on thy shoes upon thy feet, and cover not',\n",
       " 'darkness upon thy land, saith the Lord GOD.',\n",
       " '',\n",
       " '2:6 The law of truth was in his mouth, and iniquity was not found in his',\n",
       " '',\n",
       " '',\n",
       " '20:33 Therefore in the resurrection whose wife of them is she? for seven',\n",
       " '3:1 If ye then be risen with Christ, seek those things which are above,',\n",
       " '',\n",
       " '']"
      ]
     },
     "execution_count": 4,
     "metadata": {},
     "output_type": "execute_result"
    }
   ],
   "source": [
    "# 'Collect' return a list that contains all of the elements in the RDD\n",
    "bRDD.sample(withReplacement = False, fraction = 0.0002, seed = 80).collect()"
   ]
  },
  {
   "cell_type": "code",
   "execution_count": 5,
   "metadata": {},
   "outputs": [
    {
     "data": {
      "text/plain": [
       "['',\n",
       " 'and the sun and the moon-beheld them make obeisance to me!\"3',\n",
       " '',\n",
       " '',\n",
       " 'shall be fruitless in this world, and in the next: they shall be consigned to']"
      ]
     },
     "execution_count": 5,
     "metadata": {},
     "output_type": "execute_result"
    }
   ],
   "source": [
    "qRDD.sample(withReplacement = False, fraction = 0.0002, seed = 80).collect()"
   ]
  },
  {
   "cell_type": "code",
   "execution_count": 6,
   "metadata": {},
   "outputs": [
    {
     "name": "stdout",
     "output_type": "stream",
     "text": [
      "The number of lines in the Bible text file is 109408\n"
     ]
    }
   ],
   "source": [
    "# Let's count the number of lines in each RDD\n",
    "print('The number of lines in the Bible text file is {}'.format(bRDD.count()))"
   ]
  },
  {
   "cell_type": "code",
   "execution_count": 8,
   "metadata": {},
   "outputs": [
    {
     "name": "stdout",
     "output_type": "stream",
     "text": [
      "The number of lines in the quran text file is 26044\n"
     ]
    }
   ],
   "source": [
    "print('The number of lines in the quran text file is {}'.format(qRDD.count()))"
   ]
  },
  {
   "cell_type": "code",
   "execution_count": 9,
   "metadata": {},
   "outputs": [],
   "source": [
    "# Regular Expression(re) from Python Will changes them to lower letter and removes leading or trailing spaces.\n",
    "# removing special characters and numbers\n",
    "import re\n",
    "\n",
    "def wordclean(x):\n",
    "    return re.sub(\"[^a-zA-Z0-9\\s]+\",\"\", x).lower().strip()"
   ]
  },
  {
   "cell_type": "code",
   "execution_count": 10,
   "metadata": {},
   "outputs": [
    {
     "name": "stdout",
     "output_type": "stream",
     "text": [
      "imagine that you have 26 constants labeled a through z each constant is assigned a value in the following way a  261 b  252 c  243 d  232 and so on till z  126 find the exact numerical value to the following equation yaybycyz   he said i am sure you know the answer equals 0 since yy is zero\n"
     ]
    }
   ],
   "source": [
    "x = [\" imagine that you have 26 constants, labeled A through Z. Each constant is assigned a value in the following way: A = 26^1, B = 25^2, C = 24^3, D = 23^2 and so on till Z = 1^26. find the exact numerical value to the following equation: (Y-A)*(Y-B)*(Y-C)...*(Y-Z). \"\n",
    "     \"  He said, 'I am sure you know the answer equals 0 since (Y-Y) is zero'  \"]\n",
    "\n",
    "for i in x: \n",
    "  print(wordclean(i))"
   ]
  },
  {
   "cell_type": "code",
   "execution_count": 11,
   "metadata": {},
   "outputs": [],
   "source": [
    "# Apply wordclean to our Bible and Quran RDDS. We use the map RDD method.\n",
    "bRDDList = bRDD.map(lambda x : wordclean(x))\n",
    "qRDDList = qRDD.map(lambda x : wordclean(x))"
   ]
  },
  {
   "cell_type": "code",
   "execution_count": 12,
   "metadata": {},
   "outputs": [
    {
     "data": {
      "text/plain": [
       "['',\n",
       " '114 and god said let there be lights in the firmament of the heaven to',\n",
       " 'divide the day from the night and let them be for signs and for',\n",
       " 'seasons and for days and years',\n",
       " '',\n",
       " '115 and let them be for lights in the firmament of the heaven to give',\n",
       " 'light upon the earth and it was so',\n",
       " '',\n",
       " '116 and god made two great lights the greater light to rule the day',\n",
       " 'and the lesser light to rule the night he made the stars also',\n",
       " '',\n",
       " '117 and god set them in the firmament of the heaven to give light upon',\n",
       " 'the earth',\n",
       " '',\n",
       " '118 and to rule over the day and over the night and to divide the',\n",
       " 'light from the darkness and god saw that it was good',\n",
       " '',\n",
       " '119 and the evening and the morning were the fourth day',\n",
       " '']"
      ]
     },
     "execution_count": 12,
     "metadata": {},
     "output_type": "execute_result"
    }
   ],
   "source": [
    "bRDDList.take(60)[41: ]"
   ]
  },
  {
   "cell_type": "code",
   "execution_count": 13,
   "metadata": {},
   "outputs": [
    {
     "data": {
      "text/plain": [
       "['',\n",
       " '',\n",
       " '',\n",
       " '',\n",
       " '1 the word sura occurs nine times in the koran viz sur ix 65 87 125',\n",
       " '128 xxiv 1 xlvii 22 twice ii 21 x 39 but it is not easy to',\n",
       " 'determine whether it means a whole chapter or part only of a chapter or is',\n",
       " 'used in the sense of revelation see weils mohammed der prophet pp 361',\n",
       " '363 it is understood by the muhammadan commentators to have a primary',\n",
       " 'reference to the succession of subjects or parts like the rows of bricks in',\n",
       " 'a wall the titles of the suras are generally taken from some word occurring',\n",
       " 'in each which is printed in large type throughout where practicable',\n",
       " '',\n",
       " '2 this formulabismillahi rrahmani rrahimis of jewish origin it was in',\n",
       " 'the first instance taught to the koreisch by omayah of taief the poet who',\n",
       " 'was a contemporary with but somewhat older than muhammad and who during',\n",
       " 'his mercantile journeys into arabia petra and syria had made himself',\n",
       " 'acquainted with the sacred books and doctrines of jews and christians kitab',\n",
       " 'alaghni 16 delhi muhammad adopted and constantly used it and it is']"
      ]
     },
     "execution_count": 13,
     "metadata": {},
     "output_type": "execute_result"
    }
   ],
   "source": [
    "qRDDList.take(60)[41: ]"
   ]
  },
  {
   "cell_type": "code",
   "execution_count": 15,
   "metadata": {},
   "outputs": [],
   "source": [
    "# Apply a transformation for each element of the RDD by its spaces.\n",
    "# Aply Python's string split() & Spark flatMap function respectively.\n",
    "bRDDwords = bRDDList.flatMap( lambda x: x.split(\" \"))\n",
    "qRDDwords = qRDDList.flatMap( lambda x: x.split(\" \"))"
   ]
  },
  {
   "cell_type": "code",
   "execution_count": 16,
   "metadata": {},
   "outputs": [
    {
     "data": {
      "text/plain": [
       "['thy', 'the', 'shall', 'she', '', 'that', 'earth', 'by']"
      ]
     },
     "execution_count": 16,
     "metadata": {},
     "output_type": "execute_result"
    }
   ],
   "source": [
    "# Display sample words from each RDD\n",
    "bRDDwords.sample(withReplacement = False, fraction = 0.00001, seed = 90).collect()\n"
   ]
  },
  {
   "cell_type": "code",
   "execution_count": 17,
   "metadata": {},
   "outputs": [
    {
     "data": {
      "text/plain": [
       "['forth', 'not', 'those']"
      ]
     },
     "execution_count": 17,
     "metadata": {},
     "output_type": "execute_result"
    }
   ],
   "source": [
    "# Display sample words from each RDD\n",
    "qRDDwords.sample(withReplacement = False, fraction = 0.00001, seed = 90).collect()"
   ]
  },
  {
   "cell_type": "code",
   "execution_count": 18,
   "metadata": {},
   "outputs": [],
   "source": [
    "# Apply filter to remove spaces.\n",
    "bRDDwords = bRDDwords.filter(lambda x: len(x) != 0)\n",
    "qRDDwords = qRDDwords.filter(lambda x: len(x) != 0)"
   ]
  },
  {
   "cell_type": "code",
   "execution_count": 19,
   "metadata": {},
   "outputs": [],
   "source": [
    "# Creat word pairs to count the frequency of words\n",
    "bRDDwordPairs =  bRDDwords.map(lambda x: (x,1))\n",
    "qRDDwordPairs =  qRDDwords.map(lambda x: (x, 1))"
   ]
  },
  {
   "cell_type": "code",
   "execution_count": 20,
   "metadata": {},
   "outputs": [
    {
     "data": {
      "text/plain": [
       "[('genesis', 1),\n",
       " ('11', 1),\n",
       " ('in', 1),\n",
       " ('the', 1),\n",
       " ('beginning', 1),\n",
       " ('god', 1),\n",
       " ('created', 1),\n",
       " ('the', 1),\n",
       " ('heaven', 1),\n",
       " ('and', 1)]"
      ]
     },
     "execution_count": 20,
     "metadata": {},
     "output_type": "execute_result"
    }
   ],
   "source": [
    "# Display a wordpair using Take function from spark\n",
    "bRDDwordPairs.take(10)"
   ]
  },
  {
   "cell_type": "code",
   "execution_count": 21,
   "metadata": {},
   "outputs": [
    {
     "data": {
      "text/plain": [
       "[('sura1', 1),\n",
       " ('xcvithick', 1),\n",
       " ('blood', 1),\n",
       " ('or', 1),\n",
       " ('clots', 1),\n",
       " ('of', 1),\n",
       " ('blood', 1),\n",
       " ('i', 1),\n",
       " ('mecca19', 1),\n",
       " ('verses', 1)]"
      ]
     },
     "execution_count": 21,
     "metadata": {},
     "output_type": "execute_result"
    }
   ],
   "source": [
    "# Display a wordpair for quran using Take function from spark\n",
    "qRDDwordPairs.take(10)"
   ]
  },
  {
   "cell_type": "code",
   "execution_count": 22,
   "metadata": {},
   "outputs": [],
   "source": [
    "# reduceByKey() run a function for each partition on a per-key basis and then across the partitions.\n",
    "bRDDwordCount =  bRDDwordPairs.reduceByKey(lambda a, b : a + b)\n",
    "qRDDwordCount =  qRDDwordPairs.reduceByKey(lambda a, b : a + b)\n"
   ]
  },
  {
   "cell_type": "code",
   "execution_count": 23,
   "metadata": {},
   "outputs": [
    {
     "data": {
      "text/plain": [
       "[('in', 12724),\n",
       " ('created', 47),\n",
       " ('earth', 987),\n",
       " ('12', 99),\n",
       " ('was', 4524),\n",
       " ('form', 28),\n",
       " ('upon', 2750),\n",
       " ('of', 34732),\n",
       " ('spirit', 505),\n",
       " ('said', 3999)]"
      ]
     },
     "execution_count": 23,
     "metadata": {},
     "output_type": "execute_result"
    }
   ],
   "source": [
    "# Display the frequency of each work in bible\n",
    "bRDDwordCount.take(10)"
   ]
  },
  {
   "cell_type": "code",
   "execution_count": 24,
   "metadata": {},
   "outputs": [
    {
     "data": {
      "text/plain": [
       "[('sura1', 5),\n",
       " ('of', 6439),\n",
       " ('i', 739),\n",
       " ('verses', 193),\n",
       " ('in', 2928),\n",
       " ('name', 190),\n",
       " ('compassionate', 120),\n",
       " ('merciful2', 1),\n",
       " ('thou', 813),\n",
       " ('thy', 488)]"
      ]
     },
     "execution_count": 24,
     "metadata": {},
     "output_type": "execute_result"
    }
   ],
   "source": [
    "# Display the frequency of each work in quran\n",
    "qRDDwordCount.take(10)"
   ]
  },
  {
   "cell_type": "code",
   "execution_count": 25,
   "metadata": {},
   "outputs": [
    {
     "data": {
      "text/plain": [
       "[('the', 64096),\n",
       " ('and', 51764),\n",
       " ('of', 34732),\n",
       " ('to', 13642),\n",
       " ('that', 12928),\n",
       " ('in', 12724),\n",
       " ('he', 10422),\n",
       " ('shall', 9840),\n",
       " ('unto', 8997),\n",
       " ('for', 8996)]"
      ]
     },
     "execution_count": 25,
     "metadata": {},
     "output_type": "execute_result"
    }
   ],
   "source": [
    "# Apply The takeOrdered()  function to obtain the first n elements of the RDD either their natural order or a custom comparator. \n",
    "# avoid using first() or take() function where both give you Ascending or descending order depend on the list. \n",
    "# Apply -x[1] to make it in descending order.\n",
    "bRDDwordCount.takeOrdered(10, lambda x : -x[1])"
   ]
  },
  {
   "cell_type": "code",
   "execution_count": 27,
   "metadata": {},
   "outputs": [
    {
     "data": {
      "text/plain": [
       "[('the', 10871),\n",
       " ('and', 8450),\n",
       " ('of', 6439),\n",
       " ('to', 4913),\n",
       " ('god', 3169),\n",
       " ('they', 2979),\n",
       " ('in', 2928),\n",
       " ('is', 2766),\n",
       " ('a', 2485),\n",
       " ('shall', 2331)]"
      ]
     },
     "execution_count": 27,
     "metadata": {},
     "output_type": "execute_result"
    }
   ],
   "source": [
    "qRDDwordCount.takeOrdered(10, lambda x : -x[1])"
   ]
  },
  {
   "cell_type": "code",
   "execution_count": 28,
   "metadata": {},
   "outputs": [],
   "source": [
    "# remove stop words from our RDDs using SpaCy STOP_WORDS\n",
    "bRDDwordCount = bRDDwordCount.filter(lambda x : x[0] not in STOP_WORDS)\n",
    "qRDDwordCount = qRDDwordCount.filter(lambda x : x[0] not in STOP_WORDS)"
   ]
  },
  {
   "cell_type": "code",
   "execution_count": 29,
   "metadata": {},
   "outputs": [
    {
     "data": {
      "text/plain": [
       "[('shall', 9840),\n",
       " ('unto', 8997),\n",
       " ('lord', 7830),\n",
       " ('thou', 5474),\n",
       " ('thy', 4600),\n",
       " ('god', 4443),\n",
       " ('said', 3999),\n",
       " ('ye', 3982),\n",
       " ('thee', 3826),\n",
       " ('man', 2613)]"
      ]
     },
     "execution_count": 29,
     "metadata": {},
     "output_type": "execute_result"
    }
   ],
   "source": [
    "bRDDwordCount.takeOrdered(10, lambda x : -x[1])"
   ]
  },
  {
   "cell_type": "code",
   "execution_count": 31,
   "metadata": {},
   "outputs": [
    {
     "data": {
      "text/plain": [
       "[('god', 3169),\n",
       " ('shall', 2331),\n",
       " ('ye', 1798),\n",
       " ('hath', 951),\n",
       " ('lord', 919),\n",
       " ('said', 887),\n",
       " ('thou', 813),\n",
       " ('thee', 638),\n",
       " ('day', 531),\n",
       " ('thy', 488)]"
      ]
     },
     "execution_count": 31,
     "metadata": {},
     "output_type": "execute_result"
    }
   ],
   "source": [
    "qRDDwordCount.takeOrdered(10, lambda x : -x[1])"
   ]
  },
  {
   "cell_type": "code",
   "execution_count": 32,
   "metadata": {},
   "outputs": [],
   "source": [
    "# Search a unique words in RDD\n",
    "uwordsbible = bRDDwordCount.count()\n",
    "uwordsquran = qRDDwordCount.count()"
   ]
  },
  {
   "cell_type": "code",
   "execution_count": 33,
   "metadata": {},
   "outputs": [
    {
     "name": "stdout",
     "output_type": "stream",
     "text": [
      " The total number of unique words in the bible is 16669 while the unique number of words in the Quran is 11286\n"
     ]
    }
   ],
   "source": [
    "print(\" The total number of unique words in the bible is {} while the unique number of words in the Quran is {}\".\\\n",
    "      format(uwordsbible, uwordsquran ))"
   ]
  },
  {
   "cell_type": "markdown",
   "metadata": {},
   "source": [
    "## TF-IDF\n",
    "An introduction to TF-IDF\n",
    "TF-IDF stands for “Term Frequency — Inverse Data Frequency”. First, we will learn what this term means mathematically.\n",
    "\n",
    "Term Frequency (tf): gives us the frequency of the word in each document in the corpus. It is the ratio of number of times the word appears in a document compared to the total number of words in that document. It increases as the number of occurrences of that word within the document increases. Each document has its own tf.\n",
    "<img src=\"https://cdn-media-1.freecodecamp.org/images/1*HM0Vcdrx2RApOyjp_ZeW_Q.png\" />\n",
    " \n",
    "Inverse Data Frequency (idf): used to calculate the weight of rare words across all documents in the corpus. The words that occur rarely in the corpus have a high IDF score. It is given by the equation below.\n",
    "<img src=\"https://cdn-media-1.freecodecamp.org/images/1*A5YGwFpcTd0YTCdgoiHFUw.png\" />\n",
    "\n",
    "Combining these two we come up with the TF-IDF score (w) for a word in a document in the corpus. It is the product of tf and idf:\n",
    "\n",
    "<img src=\"https://cdn-media-1.freecodecamp.org/images/1*nSqHXwOIJ2fa_EFLTh5KYw.png\" />\n",
    "\n",
    "\n"
   ]
  },
  {
   "cell_type": "code",
   "execution_count": 34,
   "metadata": {},
   "outputs": [
    {
     "name": "stdout",
     "output_type": "stream",
     "text": [
      "Total number of words in the Bible: 367091\n"
     ]
    }
   ],
   "source": [
    "# calculate total word in bible\n",
    "Tnijb = bRDDwordCount.map(lambda a: a[1]).reduce(lambda a, b : a + b)\n",
    "\n",
    "print(\"Total number of words in the Bible: {}\".format(Tnijb))"
   ]
  },
  {
   "cell_type": "code",
   "execution_count": 36,
   "metadata": {},
   "outputs": [
    {
     "name": "stdout",
     "output_type": "stream",
     "text": [
      "Total number of words in the Quran: 84043\n"
     ]
    }
   ],
   "source": [
    "# calculate total word in bible\n",
    "Tnijq = qRDDwordCount.map(lambda a: a[1]).reduce(lambda a, b : a + b)\n",
    "\n",
    "print(\"Total number of words in the Quran: {}\".format(Tnijq))"
   ]
  },
  {
   "cell_type": "code",
   "execution_count": 40,
   "metadata": {},
   "outputs": [],
   "source": [
    "# Term Frequency\n",
    "TFb = Tnijb/uwordsbible\n",
    "\n",
    "TFq = Tnijq/uwordsquran"
   ]
  },
  {
   "cell_type": "code",
   "execution_count": 41,
   "metadata": {},
   "outputs": [
    {
     "name": "stdout",
     "output_type": "stream",
     "text": [
      "Average word frequency in the Bible is  22.0 while the average word frequency in the Quran is 7.4\n"
     ]
    }
   ],
   "source": [
    "print('Average word frequency in the Bible is  {} while the average word frequency in the Quran is {}'.\\\n",
    "      format(round(TFb,1), round(TFq,1)))"
   ]
  },
  {
   "cell_type": "code",
   "execution_count": 43,
   "metadata": {},
   "outputs": [],
   "source": [
    "# Visualizing the distribution of the words\n",
    "# Changing the word frequencies in RDDs to numpy arrays and ploting  using matplotlib.\n",
    "\n",
    "bRDDwordCount_numeric_values = bRDDwordCount.map(lambda x : x[1]).collect()\n",
    "qRDDwordCount_numeric_values = qRDDwordCount.map(lambda x : x[1]).collect()"
   ]
  },
  {
   "cell_type": "code",
   "execution_count": 44,
   "metadata": {},
   "outputs": [
    {
     "data": {
      "text/plain": [
       "[47, 987, 99, 28, 505, 3999, 1511, 94, 720, 307]"
      ]
     },
     "execution_count": 44,
     "metadata": {},
     "output_type": "execute_result"
    }
   ],
   "source": [
    "# Display first ten elements of bible list\n",
    "\n",
    "bRDDwordCount_numeric_values[:10]\n"
   ]
  },
  {
   "cell_type": "code",
   "execution_count": 46,
   "metadata": {},
   "outputs": [
    {
     "data": {
      "text/plain": [
       "[5, 193, 120, 1, 813, 488, 165, 17, 15, 27]"
      ]
     },
     "execution_count": 46,
     "metadata": {},
     "output_type": "execute_result"
    }
   ],
   "source": [
    "# Display first ten elements of quran list\n",
    "\n",
    "qRDDwordCount_numeric_values[:10]\n"
   ]
  },
  {
   "cell_type": "code",
   "execution_count": 47,
   "metadata": {},
   "outputs": [],
   "source": [
    "# Converting lists to numpy arrays.\n",
    "\n",
    "bRDDwordCount_numeric_values_np = np.array(bRDDwordCount_numeric_values)\n",
    "qRDDwordCount_numeric_values_np = np.array(qRDDwordCount_numeric_values)"
   ]
  },
  {
   "cell_type": "code",
   "execution_count": 48,
   "metadata": {},
   "outputs": [
    {
     "data": {
      "text/plain": [
       "numpy.ndarray"
      ]
     },
     "execution_count": 48,
     "metadata": {},
     "output_type": "execute_result"
    }
   ],
   "source": [
    "# Check data type\n",
    "\n",
    "type(bRDDwordCount_numeric_values_np)"
   ]
  },
  {
   "cell_type": "code",
   "execution_count": 50,
   "metadata": {},
   "outputs": [
    {
     "data": {
      "image/png": "[encoded data removed]",
      "text/plain": [
       "<Figure size 1440x720 with 1 Axes>"
      ]
     },
     "metadata": {
      "needs_background": "light"
     },
     "output_type": "display_data"
    }
   ],
   "source": [
    "plt.figure(figsize = (20, 10))\n",
    "plt.hist(np.log10(bRDDwordCount_numeric_values_np), color = \"gold\")\n",
    "plt.title(\"Distribution of words in the Bible\", fontsize = 28)\n",
    "plt.xlabel(\"Log scale\", fontsize = 16)\n",
    "plt.xticks(size = 18)\n",
    "plt.yticks(size = 18)\n",
    "plt.show()"
   ]
  },
  {
   "cell_type": "code",
   "execution_count": 51,
   "metadata": {
    "collapsed": true
   },
   "outputs": [
    {
     "ename": "NameError",
     "evalue": "name 'qDDwordCount_numeric_values_np' is not defined",
     "output_type": "error",
     "traceback": [
      "\u001b[1;31m---------------------------------------------------------------------------\u001b[0m",
      "\u001b[1;31mNameError\u001b[0m                                 Traceback (most recent call last)",
      "\u001b[1;32m<ipython-input-51-c823684ea72c>\u001b[0m in \u001b[0;36m<module>\u001b[1;34m\u001b[0m\n\u001b[0;32m      1\u001b[0m \u001b[0mplt\u001b[0m\u001b[1;33m.\u001b[0m\u001b[0mfigure\u001b[0m\u001b[1;33m(\u001b[0m\u001b[0mfigsize\u001b[0m \u001b[1;33m=\u001b[0m \u001b[1;33m(\u001b[0m\u001b[1;36m20\u001b[0m\u001b[1;33m,\u001b[0m \u001b[1;36m10\u001b[0m\u001b[1;33m)\u001b[0m\u001b[1;33m)\u001b[0m\u001b[1;33m\u001b[0m\u001b[1;33m\u001b[0m\u001b[0m\n\u001b[1;32m----> 2\u001b[1;33m \u001b[0mplt\u001b[0m\u001b[1;33m.\u001b[0m\u001b[0mhist\u001b[0m\u001b[1;33m(\u001b[0m\u001b[0mnp\u001b[0m\u001b[1;33m.\u001b[0m\u001b[0mlog10\u001b[0m\u001b[1;33m(\u001b[0m\u001b[0mqDDwordCount_numeric_values_np\u001b[0m\u001b[1;33m)\u001b[0m\u001b[1;33m,\u001b[0m \u001b[0mcolor\u001b[0m \u001b[1;33m=\u001b[0m \u001b[1;34m\"pink\"\u001b[0m\u001b[1;33m)\u001b[0m\u001b[1;33m\u001b[0m\u001b[1;33m\u001b[0m\u001b[0m\n\u001b[0m\u001b[0;32m      3\u001b[0m \u001b[0mplt\u001b[0m\u001b[1;33m.\u001b[0m\u001b[0mtitle\u001b[0m\u001b[1;33m(\u001b[0m\u001b[1;34m\"Distribution of words in the Bible\"\u001b[0m\u001b[1;33m,\u001b[0m \u001b[0mfontsize\u001b[0m \u001b[1;33m=\u001b[0m \u001b[1;36m28\u001b[0m\u001b[1;33m)\u001b[0m\u001b[1;33m\u001b[0m\u001b[1;33m\u001b[0m\u001b[0m\n\u001b[0;32m      4\u001b[0m \u001b[0mplt\u001b[0m\u001b[1;33m.\u001b[0m\u001b[0mxlabel\u001b[0m\u001b[1;33m(\u001b[0m\u001b[1;34m\"Log scale\"\u001b[0m\u001b[1;33m,\u001b[0m \u001b[0mfontsize\u001b[0m \u001b[1;33m=\u001b[0m \u001b[1;36m16\u001b[0m\u001b[1;33m)\u001b[0m\u001b[1;33m\u001b[0m\u001b[1;33m\u001b[0m\u001b[0m\n\u001b[0;32m      5\u001b[0m \u001b[0mplt\u001b[0m\u001b[1;33m.\u001b[0m\u001b[0mxticks\u001b[0m\u001b[1;33m(\u001b[0m\u001b[0msize\u001b[0m \u001b[1;33m=\u001b[0m \u001b[1;36m18\u001b[0m\u001b[1;33m)\u001b[0m\u001b[1;33m\u001b[0m\u001b[1;33m\u001b[0m\u001b[0m\n",
      "\u001b[1;31mNameError\u001b[0m: name 'qDDwordCount_numeric_values_np' is not defined"
     ]
    },
    {
     "data": {
      "text/plain": [
       "<Figure size 1440x720 with 0 Axes>"
      ]
     },
     "metadata": {},
     "output_type": "display_data"
    }
   ],
   "source": [
    "plt.figure(figsize = (20, 10))\n",
    "plt.hist(np.log10(qRDDwordCount_numeric_values_np), color = \"pink\")\n",
    "plt.title(\"Distribution of words in the Quran\", fontsize = 28)\n",
    "plt.xlabel(\"Log scale\", fontsize = 16)\n",
    "plt.xticks(size = 18)\n",
    "plt.yticks(size = 18)\n",
    "plt.show()"
   ]
  },
  {
   "cell_type": "code",
   "execution_count": 52,
   "metadata": {},
   "outputs": [
    {
     "data": {
      "image/png": "[encoded data removed]",
      "text/plain": [
       "<Figure size 1440x720 with 1 Axes>"
      ]
     },
     "metadata": {
      "needs_background": "light"
     },
     "output_type": "display_data"
    }
   ],
   "source": [
    "plt.figure(figsize = (20, 10))\n",
    "plt.hist(np.log10(qRDDwordCount_numeric_values_np), color = \"pink\")\n",
    "plt.title(\"Distribution of words in the Quran\", fontsize = 28)\n",
    "plt.xlabel(\"Log scale\", fontsize = 16)\n",
    "plt.xticks(size = 18)\n",
    "plt.yticks(size = 18)\n",
    "plt.show()"
   ]
  },
  {
   "cell_type": "markdown",
   "metadata": {},
   "source": [
    "### Note : \n",
    " The above two distribution graph showed that most words have frequencies of less than 5."
   ]
  },
  {
   "cell_type": "code",
   "execution_count": 53,
   "metadata": {},
   "outputs": [],
   "source": [
    "# Create a dataframe using the top 10 most common words.\n",
    "\n",
    "bible_top10_words = bRDDwordCount.takeOrdered(10, lambda x : -x[1])\n",
    "quran_top10_words = qRDDwordCount.takeOrdered(10, lambda x : -x[1])\n",
    "bwords = [x[0] for x in bible_top10_words]\n",
    "bcount = [x[1] for x in bible_top10_words]\n",
    "bdict = {\"word\": bwords, \"frequency\": bcount}\n",
    "\n",
    "qwords = [x[0] for x in quran_top10_words]\n",
    "qcount = [x[1] for x in quran_top10_words]\n",
    "qdict = {\"word\": qwords, \"frequency\": qcount}\n",
    "\n",
    "df_bible = pd.DataFrame(bdict)\n",
    "df_quran = pd.DataFrame(qdict)"
   ]
  },
  {
   "cell_type": "code",
   "execution_count": 54,
   "metadata": {},
   "outputs": [
    {
     "data": {
      "text/html": [
       "<div>\n",
       "<style scoped>\n",
       "    .dataframe tbody tr th:only-of-type {\n",
       "        vertical-align: middle;\n",
       "    }\n",
       "\n",
       "    .dataframe tbody tr th {\n",
       "        vertical-align: top;\n",
       "    }\n",
       "\n",
       "    .dataframe thead th {\n",
       "        text-align: right;\n",
       "    }\n",
       "</style>\n",
       "<table border=\"1\" class=\"dataframe\">\n",
       "  <thead>\n",
       "    <tr style=\"text-align: right;\">\n",
       "      <th></th>\n",
       "      <th>word</th>\n",
       "      <th>frequency</th>\n",
       "    </tr>\n",
       "  </thead>\n",
       "  <tbody>\n",
       "    <tr>\n",
       "      <th>0</th>\n",
       "      <td>shall</td>\n",
       "      <td>9840</td>\n",
       "    </tr>\n",
       "    <tr>\n",
       "      <th>1</th>\n",
       "      <td>unto</td>\n",
       "      <td>8997</td>\n",
       "    </tr>\n",
       "    <tr>\n",
       "      <th>2</th>\n",
       "      <td>lord</td>\n",
       "      <td>7830</td>\n",
       "    </tr>\n",
       "    <tr>\n",
       "      <th>3</th>\n",
       "      <td>thou</td>\n",
       "      <td>5474</td>\n",
       "    </tr>\n",
       "    <tr>\n",
       "      <th>4</th>\n",
       "      <td>thy</td>\n",
       "      <td>4600</td>\n",
       "    </tr>\n",
       "  </tbody>\n",
       "</table>\n",
       "</div>"
      ],
      "text/plain": [
       "    word  frequency\n",
       "0  shall       9840\n",
       "1   unto       8997\n",
       "2   lord       7830\n",
       "3   thou       5474\n",
       "4    thy       4600"
      ]
     },
     "execution_count": 54,
     "metadata": {},
     "output_type": "execute_result"
    }
   ],
   "source": [
    "df_bible.head()"
   ]
  },
  {
   "cell_type": "code",
   "execution_count": 55,
   "metadata": {},
   "outputs": [
    {
     "data": {
      "text/html": [
       "<div>\n",
       "<style scoped>\n",
       "    .dataframe tbody tr th:only-of-type {\n",
       "        vertical-align: middle;\n",
       "    }\n",
       "\n",
       "    .dataframe tbody tr th {\n",
       "        vertical-align: top;\n",
       "    }\n",
       "\n",
       "    .dataframe thead th {\n",
       "        text-align: right;\n",
       "    }\n",
       "</style>\n",
       "<table border=\"1\" class=\"dataframe\">\n",
       "  <thead>\n",
       "    <tr style=\"text-align: right;\">\n",
       "      <th></th>\n",
       "      <th>word</th>\n",
       "      <th>frequency</th>\n",
       "    </tr>\n",
       "  </thead>\n",
       "  <tbody>\n",
       "    <tr>\n",
       "      <th>0</th>\n",
       "      <td>god</td>\n",
       "      <td>3169</td>\n",
       "    </tr>\n",
       "    <tr>\n",
       "      <th>1</th>\n",
       "      <td>shall</td>\n",
       "      <td>2331</td>\n",
       "    </tr>\n",
       "    <tr>\n",
       "      <th>2</th>\n",
       "      <td>ye</td>\n",
       "      <td>1798</td>\n",
       "    </tr>\n",
       "    <tr>\n",
       "      <th>3</th>\n",
       "      <td>hath</td>\n",
       "      <td>951</td>\n",
       "    </tr>\n",
       "    <tr>\n",
       "      <th>4</th>\n",
       "      <td>lord</td>\n",
       "      <td>919</td>\n",
       "    </tr>\n",
       "  </tbody>\n",
       "</table>\n",
       "</div>"
      ],
      "text/plain": [
       "    word  frequency\n",
       "0    god       3169\n",
       "1  shall       2331\n",
       "2     ye       1798\n",
       "3   hath        951\n",
       "4   lord        919"
      ]
     },
     "execution_count": 55,
     "metadata": {},
     "output_type": "execute_result"
    }
   ],
   "source": [
    "df_quran.head()"
   ]
  },
  {
   "cell_type": "code",
   "execution_count": 74,
   "metadata": {},
   "outputs": [
    {
     "data": {
      "image/png": "[encoded data removed]",
      "text/plain": [
       "<Figure size 1440x720 with 1 Axes>"
      ]
     },
     "metadata": {},
     "output_type": "display_data"
    }
   ],
   "source": [
    "# Create a bar chart of the most 10 common words from Bible scripture.\n",
    "\n",
    "my_plot = df_bible.plot(figsize = (20, 10), \n",
    "              x = \"word\", y = \"frequency\", kind  = \"barh\", legend = False )\n",
    "\n",
    "my_plot.invert_yaxis()\n",
    "\n",
    "plt.title(\"Frequency of the most common words in the Bible\", fontsize = 28)\n",
    "plt.xticks(size = 18)\n",
    "plt.yticks(size = 18)\n",
    "plt.ylabel(\"\")\n",
    "plt.show()"
   ]
  },
  {
   "cell_type": "code",
   "execution_count": 73,
   "metadata": {},
   "outputs": [
    {
     "data": {
      "image/png": "[encoded data removed]",
      "text/plain": [
       "<Figure size 1440x720 with 1 Axes>"
      ]
     },
     "metadata": {},
     "output_type": "display_data"
    }
   ],
   "source": [
    "# Create a bar chart of the most 10 common words from Quran scripture.\n",
    "\n",
    "my_plot = df_quran.plot(figsize = (20, 10), \n",
    "              x = \"word\", y = \"frequency\", kind  = \"barh\", legend = False )\n",
    "\n",
    "my_plot.invert_yaxis()\n",
    "\n",
    "plt.title(\"Frequency of the most common words in the Quran\", fontsize = 28)\n",
    "plt.xticks(size = 18)\n",
    "plt.yticks(size = 18)\n",
    "plt.ylabel(\"\")\n",
    "plt.show()"
   ]
  },
  {
   "cell_type": "markdown",
   "metadata": {},
   "source": [
    "# Further reading\n",
    "\n",
    "\n",
    "1.Apache Spark [link](http://spark.apache.org/examples.html/).\n",
    "\n",
    "2.Metamorphosis by Franz Kafka [link](http://www.gutenberg.org/ebooks/5200).\n",
    " \n",
    "3.Hadoop with Python by Zach Radtka, Donald Miner [link](https://www.oreilly.com/library/view/hadoop-with-python/9781492048435/ch04.html)\n",
    " \n",
    " \n",
    " \n",
    "# Summary\n",
    "In this tutorial, you discovered how to analyzed unstructure data(text) using Spark. focused on a Python API of pyspark module. \n",
    "\n",
    "Specifically, you learned:\n",
    "\n",
    "How to launch Spark in Python Jupyter notebook.\n",
    "How to create Resiliance Distribution Datasets(RDDs).\n",
    "How to take a step up and use the more sophisticated methods in the Spark library.\n",
    "How to prepare text for analysis.\n",
    "How to develop frequency distribution and visualized it using python library."
   ]
  },
  {
   "cell_type": "code",
   "execution_count": null,
   "metadata": {},
   "outputs": [],
   "source": []
  }
 ],
 "metadata": {
  "kernelspec": {
   "display_name": "Python 3",
   "language": "python",
   "name": "python3"
  },
  "language_info": {
   "codemirror_mode": {
    "name": "ipython",
    "version": 3
   },
   "file_extension": ".py",
   "mimetype": "text/x-python",
   "name": "python",
   "nbconvert_exporter": "python",
   "pygments_lexer": "ipython3",
   "version": "3.7.9"
  }
 },
 "nbformat": 4,
 "nbformat_minor": 4
}
